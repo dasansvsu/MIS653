{
 "cells": [
  {
   "cell_type": "code",
   "execution_count": 3,
   "metadata": {},
   "outputs": [
    {
     "name": "stdout",
     "output_type": "stream",
     "text": [
      "hello world\n"
     ]
    }
   ],
   "source": [
    "print(\"hello world\")"
   ]
  },
  {
   "cell_type": "code",
   "execution_count": 4,
   "metadata": {},
   "outputs": [
    {
     "name": "stdout",
     "output_type": "stream",
     "text": [
      "The square of 4 is 16\n"
     ]
    }
   ],
   "source": [
    "def square_number(number):\n",
    "    return number ** 2\n",
    "\n",
    "num = 4\n",
    "result = square_number(num)\n",
    "print(f\"The square of {num} is {result}\")"
   ]
  },
  {
   "cell_type": "code",
   "execution_count": 6,
   "metadata": {},
   "outputs": [],
   "source": [
    "class Car:\n",
    "    def __init__(self, make, model, year, mileage):\n",
    "        self.make = make\n",
    "        self.model = model\n",
    "        self.year = year\n",
    "        self.mileage = mileage\n",
    "\n",
    "    def display_info(self):\n",
    "        print(f\"{self.year} {self.make} {self.model}\")\n",
    "        print(f\"Mileage: {self.mileage} miles\")\n",
    "\n",
    "    def drive(self, miles):\n",
    "        self.mileage += miles\n",
    "        print(f\"Driving {miles} miles. New mileage: {self.mileage} miles\")"
   ]
  },
  {
   "cell_type": "code",
   "execution_count": 7,
   "metadata": {},
   "outputs": [
    {
     "name": "stdout",
     "output_type": "stream",
     "text": [
      "2020 Toyota Corolla\n",
      "Mileage: 15000.5 miles\n",
      "Driving 200 miles. New mileage: 15200.5 miles\n",
      "2020 Toyota Corolla\n",
      "Mileage: 15200.5 miles\n"
     ]
    }
   ],
   "source": [
    "my_car = Car(\"Toyota\", \"Corolla\", 2020, 15000.5)\n",
    "my_car.display_info()\n",
    "my_car.drive(200)\n",
    "my_car.display_info()"
   ]
  },
  {
   "cell_type": "code",
   "execution_count": 8,
   "metadata": {},
   "outputs": [],
   "source": [
    "class Book:\n",
    "    def __init__(self, title, author, year, price):\n",
    "        self.title = title\n",
    "        self.author = author\n",
    "        self.year = year\n",
    "        self.price = price\n",
    "\n",
    "    def display_info(self):\n",
    "        print(f\"Title: {self.title}\")\n",
    "        print(f\"Author: {self.author}\")\n",
    "        print(f\"Year: {self.year}\")\n",
    "        print(f\"Price: ${self.price:.2f}\")\n",
    "\n",
    "    def apply_discount(self, percentage):\n",
    "        discount = self.price * percentage\n",
    "        self.price -= discount\n",
    "        print(f\"Discount applied. New price: ${self.price:.2f}\")"
   ]
  },
  {
   "cell_type": "code",
   "execution_count": 9,
   "metadata": {},
   "outputs": [
    {
     "name": "stdout",
     "output_type": "stream",
     "text": [
      "Title: To Kill a Mockingbird\n",
      "Author: Harper Lee\n",
      "Year: 1960\n",
      "Price: $18.99\n",
      "Discount applied. New price: $17.09\n",
      "Title: To Kill a Mockingbird\n",
      "Author: Harper Lee\n",
      "Year: 1960\n",
      "Price: $17.09\n"
     ]
    }
   ],
   "source": [
    "my_book = Book(\"To Kill a Mockingbird\", \"Harper Lee\", 1960, 18.99)\n",
    "my_book.display_info()\n",
    "my_book.apply_discount(0.1)\n",
    "my_book.display_info()"
   ]
  }
 ],
 "metadata": {
  "kernelspec": {
   "display_name": "Python 3",
   "language": "python",
   "name": "python3"
  },
  "language_info": {
   "codemirror_mode": {
    "name": "ipython",
    "version": 3
   },
   "file_extension": ".py",
   "mimetype": "text/x-python",
   "name": "python",
   "nbconvert_exporter": "python",
   "pygments_lexer": "ipython3",
   "version": "3.12.1"
  }
 },
 "nbformat": 4,
 "nbformat_minor": 2
}
